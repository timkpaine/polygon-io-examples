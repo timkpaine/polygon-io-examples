{
 "cells": [
  {
   "cell_type": "markdown",
   "id": "6bcf8a73-8327-4d9b-8e3b-180129e66989",
   "metadata": {},
   "source": [
    "# Polygon.io Example Notebooks\n",
    "In these examples, we will leverage `polygon-api-client`. To ensure the examples run with no code changes, put your api key in the `POLYGON_API_KEY` environment variable. You can do this from python by running the following before any other cells:\n",
    "\n",
    "```python\n",
    "import os\n",
    "os.environ[\"POLYGON_API_KEY\"] = \"...\"  # Your api key here\n",
    "```"
   ]
  },
  {
   "cell_type": "markdown",
   "id": "11597a7c-a073-4e05-825b-75f2a27eadb2",
   "metadata": {},
   "source": [
    "## Example - Building a company profile widget with ipywidgets\n",
    "In this example, we'll build an interactive company profile widget with [ipywidgets](https://ipywidgets.readthedocs.io/en/latest/).\n"
   ]
  },
  {
   "cell_type": "code",
   "execution_count": 1,
   "id": "filled-fence",
   "metadata": {},
   "outputs": [],
   "source": [
    "# imports\n",
    "\n",
    "# python standard library\n",
    "import os\n",
    "from datetime import datetime, timedelta\n",
    "from io import BytesIO\n",
    "\n",
    "# Polygon Rest Client\n",
    "from polygon import RESTClient\n",
    "\n",
    "# Pandas\n",
    "import pandas as pd\n",
    "\n",
    "# ipywidgets\n",
    "import ipywidgets as ipy\n",
    "\n",
    "# requests\n",
    "import requests"
   ]
  },
  {
   "cell_type": "code",
   "execution_count": 2,
   "id": "a25bae35-8c90-4701-8d7e-ad01cd10a584",
   "metadata": {},
   "outputs": [],
   "source": [
    "# Instantiate client\n",
    "client = RESTClient(os.environ[\"POLYGON_API_KEY\"])"
   ]
  },
  {
   "cell_type": "code",
   "execution_count": 3,
   "id": "ffc1c4ac-465f-45a0-b331-8c00373557d8",
   "metadata": {},
   "outputs": [
    {
     "data": {
      "application/vnd.jupyter.widget-view+json": {
       "model_id": "cf2fc4ebf10b47f0b883f8f2f4c116d8",
       "version_major": 2,
       "version_minor": 0
      },
      "text/plain": [
       "Combobox(value='')"
      ]
     },
     "metadata": {},
     "output_type": "display_data"
    }
   ],
   "source": [
    "# First, lets build an autocomplete widget\n",
    "# instantiate a combobox\n",
    "combo = ipy.Combobox()\n",
    "\n",
    "def lookup(change):\n",
    "    results = client.reference_tickers_v3(search=change[\"new\"].upper(), limit=50).results\n",
    "    combo.options = [r[\"ticker\"] for r in results]\n",
    "\n",
    "combo.observe(lookup, \"value\")\n",
    "combo"
   ]
  },
  {
   "cell_type": "code",
   "execution_count": 4,
   "id": "105f4ec3-4f87-4251-bdde-8913197c960b",
   "metadata": {},
   "outputs": [
    {
     "data": {
      "text/plain": [
       "{'ticker': 'AAPL',\n",
       " 'name': 'Apple Inc.',\n",
       " 'market': 'stocks',\n",
       " 'locale': 'us',\n",
       " 'primary_exchange': 'XNAS',\n",
       " 'type': 'CS',\n",
       " 'active': True,\n",
       " 'currency_name': 'usd',\n",
       " 'cik': '0000320193',\n",
       " 'composite_figi': 'BBG000B9XRY4',\n",
       " 'share_class_figi': 'BBG001S5N8V8',\n",
       " 'market_cap': 2785881981445.4,\n",
       " 'phone_number': '(408) 996-1010',\n",
       " 'address': {'address1': 'ONE APPLE PARK WAY',\n",
       "  'city': 'CUPERTINO',\n",
       "  'state': 'CA',\n",
       "  'postal_code': '95014'},\n",
       " 'description': \"Apple designs a wide variety of consumer electronic devices, including smartphones (iPhone), tablets (iPad), PCs (Mac), smartwatches (Apple Watch), AirPods, and TV boxes (Apple TV), among others. The iPhone makes up the majority of Apple's total revenue. In addition, Apple offers its customers a variety of services such as Apple Music, iCloud, Apple Care, Apple TV+, Apple Arcade, Apple Card, and Apple Pay, among others. Apple's products run internally developed software and semiconductors, and the firm is well known for its integration of hardware, software and services. Apple's products are distributed online as well as through company-owned stores and third-party retailers. The company generates roughly 40% of its revenue from the Americas, with the remainder earned internationally.\",\n",
       " 'sic_code': '3571',\n",
       " 'sic_description': 'ELECTRONIC COMPUTERS',\n",
       " 'ticker_root': 'AAPL',\n",
       " 'homepage_url': 'https://www.apple.com',\n",
       " 'total_employees': 154000,\n",
       " 'list_date': '1980-12-12',\n",
       " 'branding': {'logo_url': 'https://api.polygon.io/v1/reference/company-branding/d3d3LmFwcGxlLmNvbQ/images/2022-02-01_logo.svg',\n",
       "  'icon_url': 'https://api.polygon.io/v1/reference/company-branding/d3d3LmFwcGxlLmNvbQ/images/2022-02-01_icon.png'},\n",
       " 'share_class_shares_outstanding': 16334370000,\n",
       " 'weighted_shares_outstanding': 16319441000}"
      ]
     },
     "execution_count": 4,
     "metadata": {},
     "output_type": "execute_result"
    }
   ],
   "source": [
    "# Now lets build a little profile widget\n",
    "\n",
    "# First lets grab a sample result\n",
    "ticker = \"AAPL\"\n",
    "data = client.reference_ticker_details_vx(ticker).results\n",
    "data"
   ]
  },
  {
   "cell_type": "code",
   "execution_count": 5,
   "id": "8a58d10a-ee53-4d72-963d-8657089d57fd",
   "metadata": {},
   "outputs": [],
   "source": [
    "key = os.environ[\"POLYGON_API_KEY\"]\n",
    "quote = client.stocks_equities_snapshot_single_ticker(ticker).ticker\n",
    "day = quote.day\n",
    "prevDay = quote.prev_day"
   ]
  },
  {
   "cell_type": "code",
   "execution_count": 6,
   "id": "431227cb-0fce-43e2-86c7-8ddf98921fa1",
   "metadata": {},
   "outputs": [],
   "source": [
    "# Now lets build our data tabs\n",
    "\n",
    "# Let's do this in a function to make our life easier down the road\n",
    "def buildTabs(data, prevDay, day):\n",
    "    tabs = ipy.Tab(\n",
    "            children=[\n",
    "                # First, our overview tab\n",
    "                ipy.VBox(children=[      \n",
    "                    # Company description\n",
    "                    ipy.HTML(value=\"<p>{description}</p>\".format(description=data[\"description\"])),\n",
    "                    ipy.VBox(children=[\n",
    "                        ipy.HBox(children=[\n",
    "                            # Primary Exchange\n",
    "                            ipy.Text(\n",
    "                                value=data[\"primary_exchange\"],\n",
    "                                description='Exchange:',\n",
    "                                disabled=True\n",
    "                            ),\n",
    "                            # Sector\n",
    "                            ipy.Text(\n",
    "                                value=data[\"sic_description\"].title(),\n",
    "                                description='Sector:',\n",
    "                                disabled=True\n",
    "                            ),\n",
    "                        ]),\n",
    "                        ipy.HBox(children=[\n",
    "                            # CIK\n",
    "                            ipy.Text(\n",
    "                                value=data[\"cik\"],\n",
    "                                description='CIK:',\n",
    "                                disabled=True\n",
    "                            ),\n",
    "                            # FIGI\n",
    "                            ipy.Text(\n",
    "                                value=data[\"composite_figi\"],\n",
    "                                description='FIGI:',\n",
    "                                disabled=True\n",
    "                            ),\n",
    "                        ]),\n",
    "                    ]),\n",
    "                ]),\n",
    "\n",
    "                # Second, our stats tab\n",
    "                ipy.VBox(children=[\n",
    "                    ipy.HBox(children=[\n",
    "                        ipy.FloatText(value=data[\"market_cap\"], description=\"Mkt Cap:\", disabled=True),\n",
    "                        ipy.IntText(value=data[\"weighted_shares_outstanding\"], description=\"Shares:\", disabled=True)\n",
    "                    ]),\n",
    "                    ipy.HBox(children=[\n",
    "                        ipy.FloatText(value=prevDay.close_price, description=\"Prev Close:\", disabled=True),\n",
    "                        ipy.IntText(value=prevDay.volume, description=\"Prev Volume:\", disabled=True)\n",
    "                    ]),\n",
    "                ]),\n",
    "\n",
    "                # And finally our quote tab\n",
    "                ipy.VBox(children=[\n",
    "                    ipy.HBox(children=[\n",
    "                        ipy.FloatText(value=day.open_price, description=\"Open:\", disabled=True),\n",
    "                        ipy.FloatText(value=day.close_price, description=\"Last:\", disabled=True),\n",
    "                    ]),\n",
    "                    ipy.HBox(children=[\n",
    "                        ipy.FloatText(value=day.high_price, description=\"High:\", disabled=True),\n",
    "                        ipy.FloatText(value=day.low_price, description=\"Low:\", disabled=True),\n",
    "                    ]),\n",
    "                ]),\n",
    "            ],          \n",
    "        )\n",
    "\n",
    "    tabs.set_title(0, \"Overview\")\n",
    "    tabs.set_title(1, \"Stats\")\n",
    "    tabs.set_title(2, \"Quote\")\n",
    "\n",
    "    return tabs"
   ]
  },
  {
   "cell_type": "code",
   "execution_count": 7,
   "id": "4f0806aa-c093-42f9-86d3-4030c805bf21",
   "metadata": {},
   "outputs": [
    {
     "data": {
      "application/vnd.jupyter.widget-view+json": {
       "model_id": "e27ed818a0b943b4892c81a3bfb2b34c",
       "version_major": 2,
       "version_minor": 0
      },
      "text/plain": [
       "Tab(children=(VBox(children=(HTML(value=\"<p>Apple designs a wide variety of consumer electronic devices, inclu…"
      ]
     },
     "metadata": {},
     "output_type": "display_data"
    }
   ],
   "source": [
    "buildTabs(data, prevDay, day)"
   ]
  },
  {
   "cell_type": "code",
   "execution_count": 8,
   "id": "72efe85a-f719-467d-a641-838022838997",
   "metadata": {},
   "outputs": [
    {
     "data": {
      "application/vnd.jupyter.widget-view+json": {
       "model_id": "399484fb3eb84aff810e69eec9f43f60",
       "version_major": 2,
       "version_minor": 0
      },
      "text/plain": [
       "VBox(children=(Image(value=b'\\x89PNG\\r\\n\\x1a\\n\\x00\\x00\\x00\\rIHDR\\x00\\x00\\x01\\x90\\x00\\x00\\x01\\x90\\x08\\x06\\x00\\x…"
      ]
     },
     "metadata": {},
     "output_type": "display_data"
    }
   ],
   "source": [
    "# and finally out outer container\n",
    "\n",
    "def stockProfile(data, prevDay, day):\n",
    "    return ipy.VBox(children=[\n",
    "        ipy.Image(value=requests.get(data[\"branding\"][\"icon_url\"]+f\"?apiKey={key}\").content, width=150),\n",
    "        ipy.HBox(children=[\n",
    "            ipy.HTML(value=\"<h1>{ticker}</h1>\".format(ticker=data[\"ticker\"])),\n",
    "            ipy.HTML(value=\"<h2>&nbsp; - &nbsp; {name}</h2>\".format(name=data[\"name\"])),\n",
    "        ]),\n",
    "        buildTabs(data, prevDay, day),\n",
    "    ])\n",
    "    \n",
    "stockProfile(data, prevDay, day)"
   ]
  },
  {
   "cell_type": "code",
   "execution_count": 9,
   "id": "4f917c31-f182-4cf8-ad68-48f62d20f818",
   "metadata": {},
   "outputs": [
    {
     "data": {
      "application/vnd.jupyter.widget-view+json": {
       "model_id": "e5bb38091fec42bc9b90b6ed2a7d4441",
       "version_major": 2,
       "version_minor": 0
      },
      "text/plain": [
       "Accordion(children=(VBox(children=(Label(value='Select a ticker below and press enter'), Combobox(value=''))),…"
      ]
     },
     "metadata": {},
     "output_type": "display_data"
    }
   ],
   "source": [
    "# Now, to wire the two components together\n",
    "\n",
    "# wire the combo box to the data handler\n",
    "def handleData(_):\n",
    "    ticker = combo.value\n",
    "    data = client.reference_ticker_details_vx(ticker).results\n",
    "\n",
    "    quote = client.stocks_equities_snapshot_single_ticker(ticker).ticker\n",
    "    day = quote.day\n",
    "    prevDay = quote.prev_day\n",
    "\n",
    "\n",
    "    # build new profile widget\n",
    "    accordion.children[1].children = [stockProfile(data, prevDay, day)]\n",
    "\n",
    "    # set active tab to data\n",
    "    accordion.selected_index = 1\n",
    "\n",
    "# run data handler on ticker select\n",
    "combo.on_submit(handleData)\n",
    "\n",
    "# Render data in accordion\n",
    "accordion = ipy.Accordion(children=[\n",
    "    ipy.VBox(children=[\n",
    "        ipy.Label(\"Select a ticker below and press enter\"),\n",
    "        combo,\n",
    "    ]),\n",
    "    ipy.VBox()\n",
    "])\n",
    "\n",
    "# Set titles\n",
    "accordion.set_title(0, \"Ticker\")\n",
    "accordion.set_title(1, \"Data\")\n",
    "\n",
    "# and show\n",
    "accordion"
   ]
  },
  {
   "cell_type": "code",
   "execution_count": null,
   "id": "051fa911-c6fd-40a4-9cf2-ed1084692de5",
   "metadata": {},
   "outputs": [],
   "source": []
  }
 ],
 "metadata": {
  "kernelspec": {
   "display_name": "Python 3",
   "language": "python",
   "name": "python3"
  },
  "language_info": {
   "codemirror_mode": {
    "name": "ipython",
    "version": 3
   },
   "file_extension": ".py",
   "mimetype": "text/x-python",
   "name": "python",
   "nbconvert_exporter": "python",
   "pygments_lexer": "ipython3",
   "version": "3.9.10"
  }
 },
 "nbformat": 4,
 "nbformat_minor": 5
}
