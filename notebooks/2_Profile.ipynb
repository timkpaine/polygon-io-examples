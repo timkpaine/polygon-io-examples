{
 "cells": [
  {
   "cell_type": "markdown",
   "id": "6bcf8a73-8327-4d9b-8e3b-180129e66989",
   "metadata": {},
   "source": [
    "# Polygon.io Example Notebooks\n",
    "In these examples, we will leverage `polygon-api-client`. To ensure the examples run with no code changes, put your api key in the `POLYGON_API_KEY` environment variable. You can do this from python by running the following before any other cells:\n",
    "\n",
    "```python\n",
    "import os\n",
    "os.environ[\"POLYGON_API_KEY\"] = \"...\"  # Your api key here\n",
    "```"
   ]
  },
  {
   "cell_type": "markdown",
   "id": "11597a7c-a073-4e05-825b-75f2a27eadb2",
   "metadata": {},
   "source": [
    "## Example - Building a company profile widget with ipywidgets\n",
    "In this example, we'll build an interactive company profile widget with [ipywidgets](https://ipywidgets.readthedocs.io/en/latest/).\n"
   ]
  },
  {
   "cell_type": "code",
   "execution_count": 78,
   "id": "filled-fence",
   "metadata": {},
   "outputs": [],
   "source": [
    "# imports\n",
    "\n",
    "# python standard library\n",
    "import os\n",
    "from datetime import datetime, timedelta\n",
    "from io import BytesIO\n",
    "\n",
    "# Polygon Rest Client\n",
    "from polygon import RESTClient\n",
    "\n",
    "# Pandas\n",
    "import pandas as pd\n",
    "\n",
    "# ipywidgets\n",
    "import ipywidgets as ipy\n",
    "\n",
    "# requests\n",
    "import requests"
   ]
  },
  {
   "cell_type": "code",
   "execution_count": 47,
   "id": "a25bae35-8c90-4701-8d7e-ad01cd10a584",
   "metadata": {},
   "outputs": [],
   "source": [
    "# Instantiate client\n",
    "client = RESTClient(os.environ[\"POLYGON_API_KEY\"])"
   ]
  },
  {
   "cell_type": "code",
   "execution_count": 49,
   "id": "ffc1c4ac-465f-45a0-b331-8c00373557d8",
   "metadata": {},
   "outputs": [
    {
     "data": {
      "application/vnd.jupyter.widget-view+json": {
       "model_id": "4dfa4e3aa6b941819c709813ca7fe6e4",
       "version_major": 2,
       "version_minor": 0
      },
      "text/plain": [
       "Combobox(value='')"
      ]
     },
     "metadata": {},
     "output_type": "display_data"
    }
   ],
   "source": [
    "# First, lets build an autocomplete widget\n",
    "# instantiate a combobox\n",
    "combo = ipy.Combobox()\n",
    "\n",
    "def lookup(change):\n",
    "    results = client.reference_tickers_v3(search=change[\"new\"].upper(), limit=50).results\n",
    "    combo.options = [r[\"ticker\"] for r in results]\n",
    "\n",
    "combo.observe(lookup, \"value\")\n",
    "combo"
   ]
  },
  {
   "cell_type": "code",
   "execution_count": 112,
   "id": "55ae9c68-ac0f-488f-8bc9-172ce162b1b2",
   "metadata": {},
   "outputs": [
    {
     "data": {
      "text/plain": [
       "{'ticker': 'AAPL',\n",
       " 'name': 'Apple Inc.',\n",
       " 'market': 'stocks',\n",
       " 'locale': 'us',\n",
       " 'primary_exchange': 'XNAS',\n",
       " 'type': 'CS',\n",
       " 'active': True,\n",
       " 'currency_name': 'usd',\n",
       " 'cik': '0000320193',\n",
       " 'composite_figi': 'BBG000B9XRY4',\n",
       " 'share_class_figi': 'BBG001S5N8V8',\n",
       " 'market_cap': 2873542546320.0,\n",
       " 'phone_number': '(408) 996-1010',\n",
       " 'address': {'address1': 'ONE APPLE PARK WAY',\n",
       "  'city': 'CUPERTINO',\n",
       "  'state': 'CA',\n",
       "  'postal_code': '95014'},\n",
       " 'description': \"Apple designs a wide variety of consumer electronic devices, including smartphones (iPhone), tablets (iPad), PCs (Mac), smartwatches (Apple Watch), AirPods, and TV boxes (Apple TV), among others. The iPhone makes up the majority of Apple's total revenue. In addition, Apple offers its customers a variety of services such as Apple Music, iCloud, Apple Care, Apple TV+, Apple Arcade, Apple Card, and Apple Pay, among others. Apple's products run internally developed software and semiconductors, and the firm is well known for its integration of hardware, software and services. Apple's products are distributed online as well as through company-owned stores and third-party retailers. The company generates roughly 40% of its revenue from the Americas, with the remainder earned internationally.\",\n",
       " 'sic_code': '3571',\n",
       " 'sic_description': 'ELECTRONIC COMPUTERS',\n",
       " 'ticker_root': 'AAPL',\n",
       " 'homepage_url': 'https://www.apple.com',\n",
       " 'total_employees': 154000,\n",
       " 'list_date': '1980-12-12',\n",
       " 'branding': {'logo_url': 'https://api.polygon.io/v1/reference/company-branding/d3d3LmFwcGxlLmNvbQ/images/2022-01-10_logo.svg',\n",
       "  'icon_url': 'https://api.polygon.io/v1/reference/company-branding/d3d3LmFwcGxlLmNvbQ/images/2022-01-10_icon.png'},\n",
       " 'share_class_shares_outstanding': 16406400000,\n",
       " 'weighted_shares_outstanding': 16334371000}"
      ]
     },
     "execution_count": 112,
     "metadata": {},
     "output_type": "execute_result"
    }
   ],
   "source": [
    "# Now lets build a little profile widget\n",
    "\n",
    "# First lets grab a sample result\n",
    "ticker = \"AAPL\"\n",
    "key = os.environ[\"POLYGON_API_KEY\"]\n",
    "data = client.reference_ticker_details_vx(ticker).results\n",
    "data"
   ]
  },
  {
   "cell_type": "code",
   "execution_count": 136,
   "id": "3aabd5c2-da48-4c07-ab40-60cfe5b5e9f4",
   "metadata": {},
   "outputs": [
    {
     "data": {
      "application/vnd.jupyter.widget-view+json": {
       "model_id": "cef76a79547c435d8896cd1e8a17049a",
       "version_major": 2,
       "version_minor": 0
      },
      "text/plain": [
       "VBox(children=(Image(value=b'\\x89PNG\\r\\n\\x1a\\n\\x00\\x00\\x00\\rIHDR\\x00\\x00\\x01\\x90\\x00\\x00\\x01\\x90\\x08\\x06\\x00\\x…"
      ]
     },
     "metadata": {},
     "output_type": "display_data"
    }
   ],
   "source": [
    "ipy.VBox(children=[\n",
    "    ipy.Image(value=requests.get(data[\"branding\"][\"icon_url\"]+f\"?apiKey={key}\").content, width=150),\n",
    "    ipy.HBox(children=[\n",
    "        ipy.HTML(value=\"<h1>{ticker}</h1>\".format(ticker=data[\"ticker\"])),\n",
    "        ipy.HTML(value=\"<h2>{name}</h2>\".format(name=data[\"name\"])),\n",
    "    ]),\n",
    "    ipy.HTML(value=\"<p>{description}</p>\".format(description=data[\"description\"])),\n",
    "    ipy.HBox(children=[\n",
    "        ipy.FloatText(value=data[\"market_cap\"], disabled=True),\n",
    "    ]),\n",
    "])"
   ]
  },
  {
   "cell_type": "code",
   "execution_count": null,
   "id": "4f917c31-f182-4cf8-ad68-48f62d20f818",
   "metadata": {},
   "outputs": [],
   "source": []
  }
 ],
 "metadata": {
  "kernelspec": {
   "display_name": "Python 3",
   "language": "python",
   "name": "python3"
  },
  "language_info": {
   "codemirror_mode": {
    "name": "ipython",
    "version": 3
   },
   "file_extension": ".py",
   "mimetype": "text/x-python",
   "name": "python",
   "nbconvert_exporter": "python",
   "pygments_lexer": "ipython3",
   "version": "3.9.9"
  }
 },
 "nbformat": 4,
 "nbformat_minor": 5
}
